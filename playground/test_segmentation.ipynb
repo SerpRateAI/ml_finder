{
 "cells": [
  {
   "cell_type": "code",
   "execution_count": 1,
   "id": "2916f063-b9ce-44b4-9cf1-a4378f089648",
   "metadata": {},
   "outputs": [],
   "source": [
    "import numpy as np\n",
    "import matplotlib.pyplot as plt\n",
    "import torch\n",
    "import torch.nn as nn\n",
    "import math\n",
    "import sys\n",
    "from os.path import join\n",
    "import os"
   ]
  },
  {
   "cell_type": "code",
   "execution_count": 2,
   "id": "aafe7a67-ffb5-4dae-8258-7e5312b4b07e",
   "metadata": {},
   "outputs": [
    {
     "name": "stdout",
     "output_type": "stream",
     "text": [
      "initializing file\n"
     ]
    }
   ],
   "source": [
    "# Import Internal Modules \n",
    "sys.path.append(os.path.abspath('..'))\n",
    "\n",
    "from utils_basic import SPECTROGRAM_DIR as indir\n",
    "from utils_plot import plot_geo_total_psd_to_bin_array_spectrogram, save_figure\n",
    "\n",
    "print(\"initializing file\")"
   ]
  },
  {
   "cell_type": "code",
   "execution_count": 3,
   "id": "436b6f17-980d-4746-9122-3c0a02eb477d",
   "metadata": {},
   "outputs": [],
   "source": [
    "window = 72\n",
    "threshold = 345\n",
    "station = 'A01'"
   ]
  },
  {
   "cell_type": "code",
   "execution_count": 4,
   "id": "9e605d7e-d9e9-4397-98fe-0bac789092cb",
   "metadata": {},
   "outputs": [],
   "source": [
    "bin_specs_arr = np.load(f'/fp/projects01/ec332/data/altered_spectrograms/bin_spec_no_res_{window}_{threshold}.npz')['spectrograms']"
   ]
  },
  {
   "cell_type": "code",
   "execution_count": null,
   "id": "89951c34-6e78-4853-8faa-c8cde6e0336d",
   "metadata": {},
   "outputs": [],
   "source": [
    "# full_power_spectrograms_path = f'/fp/projects01/ec332/data/altered_spectrograms/power_spec_{station}_{window}_{threshold}.npz'\n",
    "# full_power_data = np.load(full_power_spectrograms_path, allow_pickle=True)\n",
    "# full_power_spectrograms = full_power_data['spectrograms']"
   ]
  },
  {
   "cell_type": "code",
   "execution_count": 7,
   "id": "25e5bde5-2731-4dd7-8332-692f6f8b6efb",
   "metadata": {},
   "outputs": [
    {
     "data": {
      "text/plain": [
       "array([[False, False, False, ..., False, False, False],\n",
       "       [False, False, False, ..., False, False, False],\n",
       "       [False, False, False, ..., False, False, False],\n",
       "       ...,\n",
       "       [False, False, False, ..., False, False, False],\n",
       "       [False, False, False, ..., False, False, False],\n",
       "       [False, False, False, ..., False, False, False]])"
      ]
     },
     "execution_count": 7,
     "metadata": {},
     "output_type": "execute_result"
    }
   ],
   "source": [
    "bin_specs_arr[0]"
   ]
  },
  {
   "cell_type": "code",
   "execution_count": 67,
   "id": "7ed101df-4b8c-4845-b77b-c8e36801ea8b",
   "metadata": {},
   "outputs": [],
   "source": [
    "list_of_objects = []\n",
    "example_object = np.array([[1,2],[1,3],[1,4],[1,5],[4,100],[25,39]])"
   ]
  },
  {
   "cell_type": "code",
   "execution_count": 96,
   "id": "165b8921-bb3a-48d8-a6e4-fab5a6e81011",
   "metadata": {},
   "outputs": [],
   "source": [
    "def generate_segment_plot(segment):\n",
    "    segment = np.array(segment)\n",
    "    start = min(segment[:,1])\n",
    "    end = max(segment[:,1])\n",
    "    size = end - start + 2\n",
    "    array = np.zeros([200,size])  \n",
    "    for coordinate in segment:\n",
    "        print(coordinate[0],coordinate[1]-start)\n",
    "        array[coordinate[0],coordinate[1]-start] = 1\n",
    "    plt.figure(figsize = (6,6))\n",
    "    plt.imshow(array)\n",
    "# generate_segment_plot(example_object)"
   ]
  },
  {
   "cell_type": "code",
   "execution_count": 97,
   "id": "077790ea-34c1-43d6-92e8-5641b406b7c7",
   "metadata": {},
   "outputs": [
    {
     "name": "stdout",
     "output_type": "stream",
     "text": [
      "[0, 1, 2]\n"
     ]
    }
   ],
   "source": [
    "print(list(range(3)))"
   ]
  },
  {
   "cell_type": "code",
   "execution_count": 116,
   "id": "d13788fc-a1f0-42b8-b36f-3d8614001ca0",
   "metadata": {},
   "outputs": [],
   "source": [
    "def get_true_neighbors(coordinate,object,image):\n",
    "    true_neighbors = []\n",
    "    if len(object) < 5:\n",
    "        start_x = coordinate[0]-1\n",
    "        start_y = coordinate[1]-1\n",
    "        if start_x < 0:\n",
    "            start_x = 0\n",
    "        if start_y < 0:\n",
    "            starty_y = 0\n",
    "        start_check = [start_x, start_y]\n",
    "        for i in range(3):\n",
    "            for j in range(3):\n",
    "                x_check = i+start_x\n",
    "                y_check = j+start_y\n",
    "                try:\n",
    "                    if image[x_check,y_check]:\n",
    "                        true_neighbors.append([x_check,y_check])\n",
    "                except:\n",
    "                    print('out of bounds')\n",
    "    elif len(object) >=5:\n",
    "        start_x = coordinate[0]-2\n",
    "        start_y = coordinate[1]-2\n",
    "        if start_x < 0:\n",
    "            start_x = 0\n",
    "        if start_y < 0:\n",
    "            starty_y = 0\n",
    "        start_check = [start_x, start_y]\n",
    "        for i in range(5):\n",
    "            for j in range(5):\n",
    "                x_check = i+start_x\n",
    "                y_check = j+start_y\n",
    "                try:\n",
    "                    if image[x_check,y_check]:\n",
    "                        true_neighbors.append([x_check,y_check])\n",
    "                except:\n",
    "                    print('out of bounds')\n",
    "    for neighbor in true_neighbors:\n",
    "        if neighbor not in object:\n",
    "            object.append(neighbor)"
   ]
  },
  {
   "cell_type": "code",
   "execution_count": 117,
   "id": "f15b1ba7-92a3-4152-a1cd-6553f70523d2",
   "metadata": {},
   "outputs": [],
   "source": [
    "def remove_object_from_image(object,image):\n",
    "    new_image = image\n",
    "    for coordinate in object:\n",
    "        new_image[coordinate[0],coordinate[1]] = False\n",
    "    return new_image"
   ]
  },
  {
   "cell_type": "code",
   "execution_count": 118,
   "id": "88aa0a17-9398-41ed-b18b-c0faf89d6a17",
   "metadata": {},
   "outputs": [],
   "source": [
    "def create_object(image):\n",
    "    find_pixel = False\n",
    "    image = np.array(image)\n",
    "    object = []\n",
    "    for i, row in enumerate(image):\n",
    "        for j, pixel in enumerate(row):\n",
    "            if pixel == True:\n",
    "                object.append([i,j])\n",
    "                find_pixel = True\n",
    "                break\n",
    "        if find_pixel:\n",
    "            break\n",
    "\n",
    "    for i,coordinate in enumerate(object):\n",
    "        get_true_neighbors(coordinate,object,image)\n",
    "    new_image = remove_object_from_image(object,image)\n",
    "    return object, new_image"
   ]
  },
  {
   "cell_type": "code",
   "execution_count": 119,
   "id": "f343658c-ecde-4a85-b8b7-2814f28d4ea3",
   "metadata": {},
   "outputs": [],
   "source": [
    "object, new_image = create_object(bin_specs_arr[1])"
   ]
  },
  {
   "cell_type": "code",
   "execution_count": 136,
   "id": "b7ce713d-9ec2-434b-87a6-a6baefb20bb9",
   "metadata": {},
   "outputs": [
    {
     "name": "stdout",
     "output_type": "stream",
     "text": [
      "out of bounds\n",
      "out of bounds\n",
      "out of bounds\n"
     ]
    }
   ],
   "source": [
    "object_list = []\n",
    "new_image = bin_specs_arr[0]\n",
    "for i in range(1000):\n",
    "    object, new_image = create_object(new_image)\n",
    "    if len(object) > 10:\n",
    "        object_list.append(object)"
   ]
  },
  {
   "cell_type": "code",
   "execution_count": 137,
   "id": "1b979267-79eb-4548-8747-c59995485b34",
   "metadata": {},
   "outputs": [
    {
     "data": {
      "text/plain": [
       "[[[24, 48],\n",
       "  [24, 49],\n",
       "  [24, 50],\n",
       "  [25, 50],\n",
       "  [24, 51],\n",
       "  [24, 52],\n",
       "  [24, 53],\n",
       "  [24, 54],\n",
       "  [24, 55],\n",
       "  [24, 56],\n",
       "  [24, 57],\n",
       "  [24, 58],\n",
       "  [24, 59]]]"
      ]
     },
     "execution_count": 137,
     "metadata": {},
     "output_type": "execute_result"
    }
   ],
   "source": [
    "object_list"
   ]
  },
  {
   "cell_type": "code",
   "execution_count": 139,
   "id": "2feaf781-6c2c-4d5a-a5a4-72c6285475ad",
   "metadata": {},
   "outputs": [
    {
     "name": "stdout",
     "output_type": "stream",
     "text": [
      "24 0\n",
      "24 1\n",
      "24 2\n",
      "25 2\n",
      "24 3\n",
      "24 4\n",
      "24 5\n",
      "24 6\n",
      "24 7\n",
      "24 8\n",
      "24 9\n",
      "24 10\n",
      "24 11\n"
     ]
    },
    {
     "data": {
      "image/png": "[encoded data removed]",
      "text/plain": [
       "<Figure size 600x600 with 1 Axes>"
      ]
     },
     "metadata": {},
     "output_type": "display_data"
    }
   ],
   "source": [
    "generate_segment_plot(object_list[0])"
   ]
  },
  {
   "cell_type": "code",
   "execution_count": null,
   "id": "48bb1828-d6af-4406-951d-70c1d1a7bd3b",
   "metadata": {},
   "outputs": [],
   "source": [
    "def generate_segment_plot(segment):\n",
    "    start = min(segment[:,1])\n",
    "    end = max(segment[:,1])\n",
    "    size = end - start + 2\n",
    "    array = np.zeros([200,size])  \n",
    "    for coordinate in segment:\n",
    "        print(coordinate[0],coordinate[1]-start)\n",
    "        array[coordinate[0],coordinate[1]-start] = 1\n",
    "    plt.figure(figsize = (6,6))\n",
    "    plt.imshow(array)\n",
    "# generate_segment_plot(example_object)"
   ]
  },
  {
   "cell_type": "code",
   "execution_count": 71,
   "id": "df48a5b9-343d-4c40-850a-1c0809c3d75b",
   "metadata": {},
   "outputs": [],
   "source": [
    "object = [5]\n",
    "for i,coordinate in enumerate(object):\n",
    "    object.append(i)\n",
    "    if len(object) >50:\n",
    "        break"
   ]
  }
 ],
 "metadata": {
  "kernelspec": {
   "display_name": "Python 3 (ipykernel)",
   "language": "python",
   "name": "python3"
  },
  "language_info": {
   "codemirror_mode": {
    "name": "ipython",
    "version": 3
   },
   "file_extension": ".py",
   "mimetype": "text/x-python",
   "name": "python",
   "nbconvert_exporter": "python",
   "pygments_lexer": "ipython3",
   "version": "3.11.3"
  }
 },
 "nbformat": 4,
 "nbformat_minor": 5
}
