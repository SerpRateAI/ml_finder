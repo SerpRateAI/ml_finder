{
 "cells": [
  {
   "cell_type": "code",
   "execution_count": 1,
   "id": "01a49ece-e6ba-498d-b2d8-e4e6bcc44bd4",
   "metadata": {},
   "outputs": [],
   "source": [
    "import os\n",
    "from os.path import join\n",
    "import sys\n",
    "import urllib.request\n",
    "from urllib.error import HTTPError\n",
    "import h5py\n",
    "\n",
    "import numpy as np\n",
    "from numpy import bool_, linspace, zeros\n",
    "from pandas import Timestamp\n",
    "from pandas import date_range\n",
    "\n",
    "from time import time\n",
    "from datetime import datetime, timedelta\n",
    "\n",
    "from scipy.ndimage import convolve\n",
    "\n",
    "\n",
    "\n",
    "\n",
    "\n",
    "# Add the parent directory to the Python path\n",
    "sys.path.append(os.path.abspath('..'))\n",
    "\n",
    "# Import internal modules\n",
    "from utils_basic import SPECTROGRAM_DIR as indir\n",
    "from utils_basic import get_geophone_days\n",
    "from utils_spec import get_spectrogram_file_suffix, get_spec_peak_file_suffix, read_binary_spectrogram, read_geo_spectrograms, read_geo_spec_peaks, read_spec_peak_array_counts\n",
    "from utils_plot import plot_geo_total_psd_to_bin_array_spectrogram, save_figure"
   ]
  },
  {
   "cell_type": "code",
   "execution_count": 2,
   "id": "fda85a08-e09c-4a44-ad9d-995c753bdb77",
   "metadata": {},
   "outputs": [
    {
     "name": "stdout",
     "output_type": "stream",
     "text": [
      "Using Default Values\n"
     ]
    }
   ],
   "source": [
    "# Initialize Variable Parameters\n",
    "\n",
    "print(\"Using Default Values\")\n",
    "station = 'A01'\n",
    "window = 64\n",
    "threshold = 500\n",
    "\n",
    "# Initialize Constant Parameters\n",
    "time_delta = timedelta(seconds=window)\n",
    "window_length = 1.0 \n",
    "overlap = 0.0\n",
    "downsample = False\n",
    "downsample_factor = 60\n",
    "prom_threshold = 10\n",
    "rbw_threshold = .2 \n",
    "min_freq = None\n",
    "max_freq = 200.0\n",
    "count_threshold = 9\n",
    "starttime_plot = \"2020-01-10 20:00:00\"\n",
    "endtime_plot = \"2020-01-30 21:00:00\"\n",
    "start_time = datetime.strptime(starttime_plot, \"%Y-%m-%d %H:%M:%S\")\n",
    "end_time = datetime.strptime(endtime_plot, \"%Y-%m-%d %H:%M:%S\")\n",
    "current_time = start_time\n",
    "suffix_spec = get_spectrogram_file_suffix(window_length, overlap, downsample, downsample_factor = downsample_factor)\n",
    "suffix_peak = get_spec_peak_file_suffix(prom_threshold, rbw_threshold, min_freq = min_freq, max_freq = max_freq)"
   ]
  },
  {
   "cell_type": "code",
   "execution_count": 3,
   "id": "e73c3f90-7e07-490d-9e55-2e37655cef54",
   "metadata": {},
   "outputs": [],
   "source": [
    "# Grab Binary Spectrograms\n",
    "bin_slice_list = []\n",
    "while current_time < end_time:\n",
    "    next_time = current_time + time_delta\n",
    "    if next_time > end_time:\n",
    "        break # Break loop if end time is exceeded\n",
    "    suffix_spec = get_spectrogram_file_suffix(window_length, overlap, downsample, downsample_factor = downsample_factor)\n",
    "    suffix_peak = get_spec_peak_file_suffix(prom_threshold, rbw_threshold, min_freq = min_freq, max_freq = max_freq)\n",
    "    filename_in = f\"geo_binary_array_spectrogram_{suffix_spec}_{suffix_peak}_count{count_threshold:d}.h5\"\n",
    "    inpath = join(indir, filename_in)\n",
    "    bin_spec_slice = read_binary_spectrogram(inpath, starttime = str(current_time), endtime = str(next_time), min_freq = min_freq, max_freq = max_freq)\n",
    "    bin_slice_list.append(bin_spec_slice['data'])\n",
    "    current_time = next_time"
   ]
  },
  {
   "cell_type": "code",
   "execution_count": 5,
   "id": "0f07a816-fc66-470a-90e5-5d70b48cb683",
   "metadata": {},
   "outputs": [
    {
     "data": {
      "text/plain": [
       "(200, 64)"
      ]
     },
     "execution_count": 5,
     "metadata": {},
     "output_type": "execute_result"
    }
   ],
   "source": [
    "bin_slice_list[0].shape"
   ]
  },
  {
   "cell_type": "code",
   "execution_count": 6,
   "id": "9f0e2f7c-008e-44a4-bae3-f578ffaa3316",
   "metadata": {},
   "outputs": [],
   "source": [
    "# Define Function to Filter Binary Spectrograms For Connectivity\n",
    "def compute_mean_connectivity_idx(skeleton):\n",
    "    struct_element = np.array([[1, 1, 1],\n",
    "                                [1, 0, 1],\n",
    "                                [1, 1, 1]])\n",
    "    neighbors_maps = []\n",
    "    for i in skeleton:\n",
    "        neighbors_maps.append(convolve(np.array(i,dtype=int), struct_element, mode='constant', cval=0)*i)\n",
    "    neighbors_maps = np.array(neighbors_maps)\n",
    "    return neighbors_maps"
   ]
  },
  {
   "cell_type": "code",
   "execution_count": 7,
   "id": "62e39df7-b811-429b-bd89-0095b106baef",
   "metadata": {},
   "outputs": [
    {
     "name": "stdout",
     "output_type": "stream",
     "text": [
      "Printing Length of Filtered dataset 684\n"
     ]
    }
   ],
   "source": [
    "# Filter Binary Spectrograms\n",
    "neighbors_maps = compute_mean_connectivity_idx(bin_slice_list)\n",
    "connect_list = []\n",
    "for map in neighbors_maps:\n",
    "    connect_list.append(np.sum(map))\n",
    "connect_mask = np.array(connect_list) > threshold\n",
    "connect_bin_slice_list = np.array(bin_slice_list)[connect_mask]\n",
    "print(f'Printing Length of Filtered dataset {len(connect_bin_slice_list)}')"
   ]
  },
  {
   "cell_type": "code",
   "execution_count": 22,
   "id": "057094f0-2e31-480a-b950-434506f36214",
   "metadata": {},
   "outputs": [],
   "source": [
    "# Grab Full Power Spectrograms Corresponding to High Connectivity\n",
    "connect_power_slice_list = []\n",
    "current_time = start_time\n",
    "for bool in connect_mask:\n",
    "    next_time = current_time + time_delta\n",
    "    if bool:\n",
    "        if next_time > end_time:\n",
    "            next_time = end_time\n",
    "        filename_in = f\"whole_deployment_daily_geo_spectrograms_{station}_{suffix_spec}.h5\"\n",
    "        inpath = join(indir, filename_in)\n",
    "        power_spec_slice = read_geo_spectrograms(inpath, starttime =  str(current_time), endtime = str(next_time),  min_freq = min_freq, max_freq = max_freq)\n",
    "        power_spec_slice = power_spec_slice.get_total_power()\n",
    "        connect_power_slice_list.append(power_spec_slice)\n",
    "    current_time = next_time\n",
    "connect_power_slice_list = np.array(connect_power_slice_list)"
   ]
  },
  {
   "cell_type": "code",
   "execution_count": 23,
   "id": "c33ee56c-df3e-4fca-a122-1a0911c83391",
   "metadata": {},
   "outputs": [
    {
     "data": {
      "text/plain": [
       "array([False, False, False, ..., False, False, False])"
      ]
     },
     "execution_count": 23,
     "metadata": {},
     "output_type": "execute_result"
    }
   ],
   "source": [
    "connect_mask"
   ]
  },
  {
   "cell_type": "code",
   "execution_count": 28,
   "id": "4359284b-c93d-434c-9fc4-02890d5195d0",
   "metadata": {},
   "outputs": [
    {
     "data": {
      "text/plain": [
       "DatetimeIndex(['2020-01-12 07:36:32+00:00', '2020-01-12 07:36:33+00:00',\n",
       "               '2020-01-12 07:36:34+00:00', '2020-01-12 07:36:35+00:00',\n",
       "               '2020-01-12 07:36:36+00:00', '2020-01-12 07:36:37+00:00',\n",
       "               '2020-01-12 07:36:38+00:00', '2020-01-12 07:36:39+00:00',\n",
       "               '2020-01-12 07:36:40+00:00', '2020-01-12 07:36:41+00:00',\n",
       "               '2020-01-12 07:36:42+00:00', '2020-01-12 07:36:43+00:00',\n",
       "               '2020-01-12 07:36:44+00:00', '2020-01-12 07:36:45+00:00',\n",
       "               '2020-01-12 07:36:46+00:00', '2020-01-12 07:36:47+00:00',\n",
       "               '2020-01-12 07:36:48+00:00', '2020-01-12 07:36:49+00:00',\n",
       "               '2020-01-12 07:36:50+00:00', '2020-01-12 07:36:51+00:00',\n",
       "               '2020-01-12 07:36:52+00:00', '2020-01-12 07:36:53+00:00',\n",
       "               '2020-01-12 07:36:54+00:00', '2020-01-12 07:36:55+00:00',\n",
       "               '2020-01-12 07:36:56+00:00', '2020-01-12 07:36:57+00:00',\n",
       "               '2020-01-12 07:36:58+00:00', '2020-01-12 07:36:59+00:00',\n",
       "               '2020-01-12 07:37:00+00:00', '2020-01-12 07:37:01+00:00',\n",
       "               '2020-01-12 07:37:02+00:00', '2020-01-12 07:37:03+00:00',\n",
       "               '2020-01-12 07:37:04+00:00', '2020-01-12 07:37:05+00:00',\n",
       "               '2020-01-12 07:37:06+00:00', '2020-01-12 07:37:07+00:00',\n",
       "               '2020-01-12 07:37:08+00:00', '2020-01-12 07:37:09+00:00',\n",
       "               '2020-01-12 07:37:10+00:00', '2020-01-12 07:37:11+00:00',\n",
       "               '2020-01-12 07:37:12+00:00', '2020-01-12 07:37:13+00:00',\n",
       "               '2020-01-12 07:37:14+00:00', '2020-01-12 07:37:15+00:00',\n",
       "               '2020-01-12 07:37:16+00:00', '2020-01-12 07:37:17+00:00',\n",
       "               '2020-01-12 07:37:18+00:00', '2020-01-12 07:37:19+00:00',\n",
       "               '2020-01-12 07:37:20+00:00', '2020-01-12 07:37:21+00:00',\n",
       "               '2020-01-12 07:37:22+00:00', '2020-01-12 07:37:23+00:00',\n",
       "               '2020-01-12 07:37:24+00:00', '2020-01-12 07:37:25+00:00',\n",
       "               '2020-01-12 07:37:26+00:00', '2020-01-12 07:37:27+00:00',\n",
       "               '2020-01-12 07:37:28+00:00', '2020-01-12 07:37:29+00:00',\n",
       "               '2020-01-12 07:37:30+00:00', '2020-01-12 07:37:31+00:00',\n",
       "               '2020-01-12 07:37:32+00:00', '2020-01-12 07:37:33+00:00',\n",
       "               '2020-01-12 07:37:34+00:00', '2020-01-12 07:37:35+00:00',\n",
       "               '2020-01-12 07:37:36+00:00', '2020-01-12 07:37:37+00:00'],\n",
       "              dtype='datetime64[ns, UTC]', freq='s')"
      ]
     },
     "execution_count": 28,
     "metadata": {},
     "output_type": "execute_result"
    }
   ],
   "source": [
    "connect_power_slice_list[10].times"
   ]
  },
  {
   "cell_type": "code",
   "execution_count": null,
   "id": "93cc9cd2-6678-42ad-a23e-7f875d6b5f2a",
   "metadata": {},
   "outputs": [],
   "source": []
  }
 ],
 "metadata": {
  "kernelspec": {
   "display_name": "Python 3 (ipykernel)",
   "language": "python",
   "name": "python3"
  },
  "language_info": {
   "codemirror_mode": {
    "name": "ipython",
    "version": 3
   },
   "file_extension": ".py",
   "mimetype": "text/x-python",
   "name": "python",
   "nbconvert_exporter": "python",
   "pygments_lexer": "ipython3",
   "version": "3.11.3"
  }
 },
 "nbformat": 4,
 "nbformat_minor": 5
}
