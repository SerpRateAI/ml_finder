{
 "cells": [
  {
   "cell_type": "markdown",
   "id": "28923384-eec8-4b9d-b66f-b3dbfb0fb8d5",
   "metadata": {},
   "source": [
    "# Extract Resonances And Change Bin Specs Accordingly"
   ]
  },
  {
   "cell_type": "code",
   "execution_count": 1,
   "id": "13f7f45f-3bd6-408e-93f0-7017ef9b24dc",
   "metadata": {},
   "outputs": [],
   "source": [
    "import pandas as pd\n",
    "import numpy as np\n",
    "import matplotlib.pyplot as plt"
   ]
  },
  {
   "cell_type": "code",
   "execution_count": 2,
   "id": "7ea0d09d-f599-430e-91d1-c2e0d48beab3",
   "metadata": {},
   "outputs": [],
   "source": [
    "filepath_in = '/fp/projects01/ec332/data/spectrograms/stationary_resonances_detected_window60s_overlap0.0_prom10db_rbw3.0_freq0to200hz_count9_frac-3.0_prom0.5.csv'"
   ]
  },
  {
   "cell_type": "code",
   "execution_count": 3,
   "id": "37d73189-ca8d-4184-a0f4-1c1ed4a51cc3",
   "metadata": {},
   "outputs": [
    {
     "ename": "NameError",
     "evalue": "name 'df' is not defined",
     "output_type": "error",
     "traceback": [
      "\u001b[0;31m---------------------------------------------------------------------------\u001b[0m",
      "\u001b[0;31mNameError\u001b[0m                                 Traceback (most recent call last)",
      "Cell \u001b[0;32mIn[3], line 1\u001b[0m\n\u001b[0;32m----> 1\u001b[0m \u001b[43mdf\u001b[49m\n",
      "\u001b[0;31mNameError\u001b[0m: name 'df' is not defined"
     ]
    }
   ],
   "source": [
    "df"
   ]
  },
  {
   "cell_type": "code",
   "execution_count": 4,
   "id": "200d4a06-4a35-45ad-ac81-28e62cdd0f3a",
   "metadata": {},
   "outputs": [
    {
     "ename": "NameError",
     "evalue": "name 'df' is not defined",
     "output_type": "error",
     "traceback": [
      "\u001b[0;31m---------------------------------------------------------------------------\u001b[0m",
      "\u001b[0;31mNameError\u001b[0m                                 Traceback (most recent call last)",
      "Cell \u001b[0;32mIn[4], line 1\u001b[0m\n\u001b[0;32m----> 1\u001b[0m counts \u001b[38;5;241m=\u001b[39m \u001b[43mdf\u001b[49m[\u001b[38;5;124m'\u001b[39m\u001b[38;5;124mcount\u001b[39m\u001b[38;5;124m'\u001b[39m]\n",
      "\u001b[0;31mNameError\u001b[0m: name 'df' is not defined"
     ]
    }
   ],
   "source": [
    "counts = df['count']"
   ]
  },
  {
   "cell_type": "code",
   "execution_count": 5,
   "id": "5d4a5a7b-47b8-4e64-848c-80ea55a76f38",
   "metadata": {},
   "outputs": [
    {
     "ename": "NameError",
     "evalue": "name 'counts' is not defined",
     "output_type": "error",
     "traceback": [
      "\u001b[0;31m---------------------------------------------------------------------------\u001b[0m",
      "\u001b[0;31mNameError\u001b[0m                                 Traceback (most recent call last)",
      "Cell \u001b[0;32mIn[5], line 1\u001b[0m\n\u001b[0;32m----> 1\u001b[0m plt\u001b[38;5;241m.\u001b[39mhist(\u001b[43mcounts\u001b[49m,bins \u001b[38;5;241m=\u001b[39m \u001b[38;5;241m40\u001b[39m)\n",
      "\u001b[0;31mNameError\u001b[0m: name 'counts' is not defined"
     ]
    }
   ],
   "source": [
    "plt.hist(counts,bins = 40)"
   ]
  },
  {
   "cell_type": "code",
   "execution_count": 6,
   "id": "44989515-312c-4413-b8cf-459278ed74ca",
   "metadata": {},
   "outputs": [],
   "source": [
    "df = pd.read_csv(filepath_in)\n",
    "stationary_resonances = df['frequency'][df['count'] >= 10]\n",
    "stationary_resonances = stationary_resonances.round(0)"
   ]
  },
  {
   "cell_type": "code",
   "execution_count": 7,
   "id": "2e33d349-6ef0-48e9-bcb4-70ace0228c65",
   "metadata": {},
   "outputs": [
    {
     "data": {
      "text/plain": [
       "100"
      ]
     },
     "execution_count": 7,
     "metadata": {},
     "output_type": "execute_result"
    }
   ],
   "source": [
    "len(list(stationary_resonances.values))"
   ]
  },
  {
   "cell_type": "code",
   "execution_count": 8,
   "id": "48cd9546-a559-4964-8e16-b4e1be03aff5",
   "metadata": {},
   "outputs": [
    {
     "data": {
      "text/plain": [
       "62"
      ]
     },
     "execution_count": 8,
     "metadata": {},
     "output_type": "execute_result"
    }
   ],
   "source": [
    "len(set(list(stationary_resonances.values)))"
   ]
  },
  {
   "cell_type": "code",
   "execution_count": 9,
   "id": "8863784e-f5cc-4fe9-a72d-e34b99608205",
   "metadata": {},
   "outputs": [],
   "source": [
    "unique_resonances = list(set(list(stationary_resonances.values)))"
   ]
  },
  {
   "cell_type": "code",
   "execution_count": 10,
   "id": "d0df82b1-3663-4644-9dc8-2d395cdd6701",
   "metadata": {},
   "outputs": [
    {
     "data": {
      "text/plain": [
       "<matplotlib.collections.PathCollection at 0x14ceb4f93690>"
      ]
     },
     "execution_count": 10,
     "metadata": {},
     "output_type": "execute_result"
    },
    {
     "data": {
      "image/png": "[encoded data removed]",
      "text/plain": [
       "<Figure size 640x480 with 1 Axes>"
      ]
     },
     "metadata": {},
     "output_type": "display_data"
    }
   ],
   "source": [
    "init = 0\n",
    "increment = 62\n",
    "first = init\n",
    "last = init + increment\n",
    "plt.scatter(range(first,last),list(set(list(stationary_resonances.values)))[first:last])\n"
   ]
  },
  {
   "cell_type": "code",
   "execution_count": 15,
   "id": "f929e89b-7673-4b32-bf12-842cb8ce68cd",
   "metadata": {},
   "outputs": [
    {
     "data": {
      "text/plain": [
       "array([False, False, False, False, False, False, False, False, False,\n",
       "       False, False, False, False, False, False, False, False, False,\n",
       "       False, False, False, False, False, False, False, False, False,\n",
       "       False, False, False, False, False, False, False, False, False,\n",
       "       False, False, False, False, False, False, False, False, False,\n",
       "       False, False, False, False, False, False, False, False, False,\n",
       "       False, False, False, False, False, False, False, False, False,\n",
       "       False, False, False, False, False, False, False, False, False])"
      ]
     },
     "execution_count": 15,
     "metadata": {},
     "output_type": "execute_result"
    }
   ],
   "source": [
    "bin_specs_arr[0][199]"
   ]
  },
  {
   "cell_type": "code",
   "execution_count": 12,
   "id": "aad80dbd-3d72-4371-ba62-58e07fe17b66",
   "metadata": {},
   "outputs": [],
   "source": [
    "window = 72\n",
    "threshold = 345\n",
    "bin_specs_arr = np.load(f'spectrograms/bin_spec_{window}_{threshold}.npz')['spectrograms']\n",
    "bin_specs_no_res = []"
   ]
  },
  {
   "cell_type": "code",
   "execution_count": 16,
   "id": "93ea57d1-62a5-4d40-ba72-4e0e6725aa92",
   "metadata": {},
   "outputs": [],
   "source": [
    "for i, bin_spec in enumerate(bin_specs_arr):\n",
    "    for resonance in unique_resonances:\n",
    "        bin_spec[int(resonance)-1] = np.full(72,False)\n",
    "    bin_specs_no_res.append(bin_spec)\n",
    "bin_specs_no_res = np.array(bin_specs_no_res)"
   ]
  },
  {
   "cell_type": "code",
   "execution_count": 17,
   "id": "aab02057-d25f-4876-adcd-c80ec8b9e678",
   "metadata": {},
   "outputs": [
    {
     "data": {
      "text/plain": [
       "(2410, 200, 72)"
      ]
     },
     "execution_count": 17,
     "metadata": {},
     "output_type": "execute_result"
    }
   ],
   "source": [
    "bin_specs_no_res.shape"
   ]
  },
  {
   "cell_type": "code",
   "execution_count": 18,
   "id": "354a65f0-bddd-41b4-8eae-6120041f0a7f",
   "metadata": {},
   "outputs": [],
   "source": [
    "np.savez(f\"spectrograms/bin_spec_no_res_{window}_{threshold}.npz\", spectrograms=bin_specs_no_res)"
   ]
  },
  {
   "cell_type": "markdown",
   "id": "0d8b499b-0780-4b46-9cd7-40b4812fbab5",
   "metadata": {},
   "source": [
    "# Alternate_method"
   ]
  },
  {
   "cell_type": "code",
   "execution_count": 17,
   "id": "b45e2948-ebee-49bb-b671-1bdac9a723f8",
   "metadata": {},
   "outputs": [
    {
     "name": "stdout",
     "output_type": "stream",
     "text": [
      "Modified array 1:\n",
      "[[ True  True  True]\n",
      " [ True  True  True]\n",
      " [False False False]]\n",
      "Modified array 2:\n",
      "[[ True  True  True]\n",
      " [False  True False]\n",
      " [ True  True  True]]\n"
     ]
    }
   ],
   "source": [
    "import numpy as np\n",
    "\n",
    "# Example list of 2D numpy arrays\n",
    "list_of_arrays = [\n",
    "    np.array([[True, False, True], [True, True, False], [False, False, False]]),\n",
    "    np.array([[True, True, True], [False, True, False], [True, False, True]]),\n",
    "    # Add more arrays as needed\n",
    "]\n",
    "\n",
    "# Function to modify rows in a 2D array\n",
    "def modify_arrays(list_of_arrays):\n",
    "    modified_arrays = []\n",
    "    for array in list_of_arrays:\n",
    "        modified_array = array.copy()  # Create a copy to avoid modifying the original array\n",
    "        for i, row in enumerate(array):\n",
    "            if np.sum(row) > (len(row) // 2):  # Check if more than half of the row is True\n",
    "                modified_array[i] = 2  # Set the entire row to False if condition is met\n",
    "        modified_arrays.append(modified_array)\n",
    "    return modified_arrays\n",
    "\n",
    "# Call the function to get the modified list\n",
    "modified_list_of_arrays = modify_arrays(list_of_arrays)\n",
    "\n",
    "# Print the modified arrays\n",
    "for i, modified_array in enumerate(modified_list_of_arrays):\n",
    "    print(f\"Modified array {i + 1}:\")\n",
    "    print(modified_array)\n"
   ]
  },
  {
   "cell_type": "code",
   "execution_count": 18,
   "id": "74c20d0d-1676-4bb6-84d8-4d02b4505960",
   "metadata": {},
   "outputs": [],
   "source": [
    "window = 72\n",
    "threshold = 345\n",
    "bin_specs_arr = np.load(f'spectrograms/bin_spec_{window}_{threshold}.npz')['spectrograms']"
   ]
  },
  {
   "cell_type": "code",
   "execution_count": 19,
   "id": "1bbe3e81-b226-4327-a811-54e186b32d4a",
   "metadata": {},
   "outputs": [],
   "source": [
    "int_array = bin_specs_arr.astype(np.int32)"
   ]
  },
  {
   "cell_type": "code",
   "execution_count": 20,
   "id": "946a26ac-5b38-4996-adc5-fc309e37edf1",
   "metadata": {},
   "outputs": [],
   "source": [
    "int_array_no_res = modify_arrays(list(int_array))"
   ]
  },
  {
   "cell_type": "code",
   "execution_count": 21,
   "id": "3ed6b305-23e8-4412-8f08-978ba37f32f8",
   "metadata": {},
   "outputs": [],
   "source": [
    "int_array_no_res = np.array(int_array_no_res)"
   ]
  },
  {
   "cell_type": "code",
   "execution_count": null,
   "id": "536aa50d-d035-4b3b-a77c-c3860993855d",
   "metadata": {},
   "outputs": [],
   "source": [
    "int_array_no_res"
   ]
  },
  {
   "cell_type": "code",
   "execution_count": 5,
   "id": "984370cb-e999-4e8b-bd3f-01ad40116cab",
   "metadata": {},
   "outputs": [],
   "source": [
    "np.savez(f\"spectrograms/bin_spec_red_res_{window}_{threshold}.npz\", spectrograms=int_array_no_res)"
   ]
  },
  {
   "cell_type": "code",
   "execution_count": 37,
   "id": "358a8620-7f19-4e96-bb31-21849f3d5467",
   "metadata": {},
   "outputs": [
    {
     "data": {
      "text/plain": [
       "array([[0, 0, 0, 0, 0, 0, 0, 0, 0, 0, 0, 0, 0, 0, 0, 0, 0, 0, 0, 0, 0, 0,\n",
       "        0, 0, 0, 0, 0, 0, 0, 0, 0, 0, 0, 0, 0, 0, 0, 0, 0, 0, 0, 0, 0, 0,\n",
       "        0, 0, 0, 0, 0, 0, 0, 0, 0, 0, 0, 0, 0, 0, 0, 0, 0, 0, 0, 0, 0, 0,\n",
       "        0, 0, 0, 0, 0, 0],\n",
       "       [0, 0, 0, 0, 0, 0, 0, 0, 0, 0, 0, 0, 0, 0, 0, 0, 0, 0, 0, 0, 0, 0,\n",
       "        0, 0, 0, 0, 0, 0, 0, 0, 0, 0, 0, 0, 0, 0, 0, 0, 0, 0, 0, 0, 0, 0,\n",
       "        0, 0, 0, 0, 0, 0, 0, 0, 0, 0, 0, 0, 0, 0, 0, 0, 0, 0, 0, 0, 0, 0,\n",
       "        0, 0, 0, 0, 0, 0],\n",
       "       [0, 0, 0, 0, 0, 0, 0, 0, 0, 0, 0, 0, 0, 0, 0, 0, 0, 0, 0, 0, 0, 0,\n",
       "        0, 0, 0, 0, 0, 0, 0, 0, 0, 0, 0, 0, 0, 1, 1, 1, 0, 0, 1, 1, 1, 0,\n",
       "        0, 1, 1, 1, 0, 0, 0, 0, 1, 1, 1, 1, 1, 0, 0, 0, 0, 0, 0, 0, 0, 0,\n",
       "        0, 0, 0, 0, 0, 0],\n",
       "       [0, 0, 0, 0, 0, 0, 0, 0, 0, 0, 0, 0, 0, 0, 0, 0, 0, 0, 0, 0, 0, 0,\n",
       "        0, 0, 0, 0, 0, 0, 0, 0, 0, 0, 0, 0, 0, 0, 0, 0, 0, 0, 0, 0, 0, 0,\n",
       "        0, 0, 0, 0, 0, 0, 0, 0, 0, 0, 0, 0, 0, 0, 0, 0, 0, 0, 0, 0, 0, 0,\n",
       "        0, 0, 0, 0, 0, 0],\n",
       "       [0, 0, 0, 0, 0, 0, 0, 0, 0, 0, 0, 0, 0, 0, 0, 0, 0, 0, 0, 0, 0, 0,\n",
       "        0, 0, 0, 0, 0, 0, 0, 0, 0, 0, 0, 0, 0, 0, 0, 0, 0, 0, 0, 0, 0, 0,\n",
       "        0, 0, 0, 0, 0, 0, 0, 0, 0, 0, 0, 0, 0, 0, 0, 0, 0, 0, 0, 0, 0, 0,\n",
       "        0, 0, 0, 0, 0, 0],\n",
       "       [0, 0, 0, 0, 0, 0, 0, 0, 0, 0, 0, 0, 0, 0, 0, 0, 0, 0, 0, 0, 0, 0,\n",
       "        0, 0, 0, 0, 0, 0, 0, 0, 0, 0, 0, 0, 0, 0, 0, 0, 0, 0, 0, 0, 0, 0,\n",
       "        0, 0, 0, 0, 0, 0, 0, 0, 0, 0, 0, 0, 0, 0, 0, 0, 0, 0, 0, 0, 0, 0,\n",
       "        0, 0, 0, 0, 0, 0],\n",
       "       [0, 0, 0, 0, 0, 0, 0, 0, 0, 0, 0, 0, 0, 0, 0, 0, 0, 0, 0, 0, 0, 0,\n",
       "        0, 0, 0, 0, 0, 0, 0, 0, 0, 0, 0, 0, 0, 0, 0, 0, 0, 0, 0, 0, 0, 0,\n",
       "        0, 0, 0, 0, 0, 0, 0, 0, 0, 0, 0, 0, 0, 0, 0, 0, 0, 0, 0, 0, 0, 0,\n",
       "        0, 0, 0, 0, 0, 0],\n",
       "       [0, 0, 0, 0, 0, 0, 0, 0, 0, 0, 0, 0, 0, 0, 0, 0, 0, 0, 0, 0, 0, 0,\n",
       "        0, 0, 0, 0, 0, 0, 0, 0, 0, 0, 0, 0, 0, 0, 0, 0, 0, 0, 0, 0, 0, 0,\n",
       "        0, 0, 0, 0, 0, 0, 0, 0, 0, 0, 0, 0, 0, 0, 0, 0, 0, 0, 0, 0, 0, 0,\n",
       "        0, 0, 0, 0, 0, 0],\n",
       "       [0, 0, 0, 0, 0, 0, 0, 0, 0, 0, 0, 0, 0, 0, 0, 0, 0, 0, 0, 0, 0, 0,\n",
       "        0, 0, 0, 0, 0, 0, 0, 0, 0, 0, 0, 0, 0, 0, 0, 0, 0, 0, 0, 0, 0, 0,\n",
       "        0, 0, 0, 0, 0, 0, 0, 0, 0, 0, 0, 0, 0, 0, 0, 0, 0, 0, 0, 0, 0, 0,\n",
       "        0, 0, 0, 0, 0, 0],\n",
       "       [0, 0, 0, 0, 0, 0, 0, 0, 0, 0, 0, 0, 0, 0, 0, 0, 0, 0, 0, 0, 0, 0,\n",
       "        0, 0, 0, 0, 0, 0, 0, 0, 0, 0, 0, 0, 0, 0, 0, 0, 0, 0, 0, 0, 0, 0,\n",
       "        0, 1, 0, 0, 0, 0, 0, 0, 1, 1, 0, 0, 1, 0, 0, 1, 0, 1, 0, 0, 0, 0,\n",
       "        0, 0, 0, 0, 1, 0]], dtype=int32)"
      ]
     },
     "execution_count": 37,
     "metadata": {},
     "output_type": "execute_result"
    }
   ],
   "source": [
    "start = 20\n",
    "fin = start+10\n",
    "int_array_no_res[30][start:fin]"
   ]
  },
  {
   "cell_type": "code",
   "execution_count": null,
   "id": "3ee36953-fb81-407a-8e59-0dfa8537f267",
   "metadata": {},
   "outputs": [],
   "source": []
  }
 ],
 "metadata": {
  "kernelspec": {
   "display_name": "Python 3 (ipykernel)",
   "language": "python",
   "name": "python3"
  },
  "language_info": {
   "codemirror_mode": {
    "name": "ipython",
    "version": 3
   },
   "file_extension": ".py",
   "mimetype": "text/x-python",
   "name": "python",
   "nbconvert_exporter": "python",
   "pygments_lexer": "ipython3",
   "version": "3.11.3"
  }
 },
 "nbformat": 4,
 "nbformat_minor": 5
}
